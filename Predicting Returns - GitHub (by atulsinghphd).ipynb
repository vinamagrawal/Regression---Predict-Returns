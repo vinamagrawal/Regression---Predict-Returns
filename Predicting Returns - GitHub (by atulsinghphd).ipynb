{
 "cells": [
  {
   "cell_type": "markdown",
   "metadata": {},
   "source": [
    "# Regression: Predict 5 year returns on an MF"
   ]
  },
  {
   "cell_type": "markdown",
   "metadata": {},
   "source": [
    "## Read Data"
   ]
  },
  {
   "cell_type": "code",
   "execution_count": 10,
   "metadata": {},
   "outputs": [
    {
     "data": {
      "text/plain": [
       "['Data', 'Sheet2', 'Sheet3']"
      ]
     },
     "execution_count": 10,
     "metadata": {},
     "output_type": "execute_result"
    }
   ],
   "source": [
    "import numpy as np\n",
    "import pandas as pd\n",
    "xlsx = pd.ExcelFile('./MutualFunds.xlsx')\n",
    "xlsx.sheet_names"
   ]
  },
  {
   "cell_type": "code",
   "execution_count": 3,
   "metadata": {},
   "outputs": [],
   "source": [
    "data = xlsx.parse('Data')"
   ]
  },
  {
   "cell_type": "code",
   "execution_count": 6,
   "metadata": {},
   "outputs": [
    {
     "data": {
      "text/html": [
       "<div>\n",
       "<style scoped>\n",
       "    .dataframe tbody tr th:only-of-type {\n",
       "        vertical-align: middle;\n",
       "    }\n",
       "\n",
       "    .dataframe tbody tr th {\n",
       "        vertical-align: top;\n",
       "    }\n",
       "\n",
       "    .dataframe thead th {\n",
       "        text-align: right;\n",
       "    }\n",
       "</style>\n",
       "<table border=\"1\" class=\"dataframe\">\n",
       "  <thead>\n",
       "    <tr style=\"text-align: right;\">\n",
       "      <th></th>\n",
       "      <th>Fund Name</th>\n",
       "      <th>Fund Type</th>\n",
       "      <th>Net Asset Value ($)</th>\n",
       "      <th>5 Year Average Return (%)</th>\n",
       "      <th>Expense Ratio (%)</th>\n",
       "      <th>Morningstar Rank</th>\n",
       "    </tr>\n",
       "  </thead>\n",
       "  <tbody>\n",
       "    <tr>\n",
       "      <th>0</th>\n",
       "      <td>Amer Cent Inc &amp; Growth Inv</td>\n",
       "      <td>DE</td>\n",
       "      <td>28.88</td>\n",
       "      <td>12.39</td>\n",
       "      <td>0.67</td>\n",
       "      <td>2-Star</td>\n",
       "    </tr>\n",
       "    <tr>\n",
       "      <th>1</th>\n",
       "      <td>American Century Intl. Disc</td>\n",
       "      <td>IE</td>\n",
       "      <td>14.37</td>\n",
       "      <td>30.53</td>\n",
       "      <td>1.41</td>\n",
       "      <td>3-Star</td>\n",
       "    </tr>\n",
       "    <tr>\n",
       "      <th>2</th>\n",
       "      <td>American Century Tax-Free Bond</td>\n",
       "      <td>FI</td>\n",
       "      <td>10.73</td>\n",
       "      <td>3.34</td>\n",
       "      <td>0.49</td>\n",
       "      <td>4-Star</td>\n",
       "    </tr>\n",
       "    <tr>\n",
       "      <th>3</th>\n",
       "      <td>American Century Ultra</td>\n",
       "      <td>DE</td>\n",
       "      <td>24.94</td>\n",
       "      <td>10.88</td>\n",
       "      <td>0.99</td>\n",
       "      <td>3-Star</td>\n",
       "    </tr>\n",
       "    <tr>\n",
       "      <th>4</th>\n",
       "      <td>Ariel</td>\n",
       "      <td>DE</td>\n",
       "      <td>46.39</td>\n",
       "      <td>11.32</td>\n",
       "      <td>1.03</td>\n",
       "      <td>2-Star</td>\n",
       "    </tr>\n",
       "    <tr>\n",
       "      <th>5</th>\n",
       "      <td>Artisan Intl Val</td>\n",
       "      <td>IE</td>\n",
       "      <td>25.52</td>\n",
       "      <td>24.95</td>\n",
       "      <td>1.23</td>\n",
       "      <td>3-Star</td>\n",
       "    </tr>\n",
       "    <tr>\n",
       "      <th>6</th>\n",
       "      <td>Artisan Small Cap</td>\n",
       "      <td>DE</td>\n",
       "      <td>16.92</td>\n",
       "      <td>15.67</td>\n",
       "      <td>1.18</td>\n",
       "      <td>3-Star</td>\n",
       "    </tr>\n",
       "    <tr>\n",
       "      <th>7</th>\n",
       "      <td>Baron Asset</td>\n",
       "      <td>DE</td>\n",
       "      <td>50.67</td>\n",
       "      <td>16.77</td>\n",
       "      <td>1.31</td>\n",
       "      <td>5-Star</td>\n",
       "    </tr>\n",
       "    <tr>\n",
       "      <th>8</th>\n",
       "      <td>Brandywine</td>\n",
       "      <td>DE</td>\n",
       "      <td>36.58</td>\n",
       "      <td>18.14</td>\n",
       "      <td>1.08</td>\n",
       "      <td>4-Star</td>\n",
       "    </tr>\n",
       "    <tr>\n",
       "      <th>9</th>\n",
       "      <td>Brown Cap Small</td>\n",
       "      <td>DE</td>\n",
       "      <td>35.73</td>\n",
       "      <td>15.85</td>\n",
       "      <td>1.20</td>\n",
       "      <td>4-Star</td>\n",
       "    </tr>\n",
       "  </tbody>\n",
       "</table>\n",
       "</div>"
      ],
      "text/plain": [
       "                        Fund Name Fund Type  Net Asset Value ($)  \\\n",
       "0      Amer Cent Inc & Growth Inv        DE                28.88   \n",
       "1     American Century Intl. Disc        IE                14.37   \n",
       "2  American Century Tax-Free Bond        FI                10.73   \n",
       "3          American Century Ultra        DE                24.94   \n",
       "4                           Ariel        DE                46.39   \n",
       "5                Artisan Intl Val        IE                25.52   \n",
       "6               Artisan Small Cap        DE                16.92   \n",
       "7                     Baron Asset        DE                50.67   \n",
       "8                      Brandywine        DE                36.58   \n",
       "9                Brown Cap Small         DE                35.73   \n",
       "\n",
       "   5 Year Average Return (%)  Expense Ratio (%) Morningstar Rank  \n",
       "0                      12.39               0.67           2-Star  \n",
       "1                      30.53               1.41           3-Star  \n",
       "2                       3.34               0.49           4-Star  \n",
       "3                      10.88               0.99           3-Star  \n",
       "4                      11.32               1.03           2-Star  \n",
       "5                      24.95               1.23           3-Star  \n",
       "6                      15.67               1.18           3-Star  \n",
       "7                      16.77               1.31           5-Star  \n",
       "8                      18.14               1.08           4-Star  \n",
       "9                      15.85               1.20           4-Star  "
      ]
     },
     "execution_count": 6,
     "metadata": {},
     "output_type": "execute_result"
    }
   ],
   "source": [
    "data.head(n = 10) #value of n is 5, by default"
   ]
  },
  {
   "cell_type": "markdown",
   "metadata": {},
   "source": [
    "## Data Exploration"
   ]
  },
  {
   "cell_type": "code",
   "execution_count": 8,
   "metadata": {},
   "outputs": [
    {
     "data": {
      "text/plain": [
       "Fund Name                    0\n",
       "Fund Type                    0\n",
       "Net Asset Value ($)          0\n",
       "5 Year Average Return (%)    0\n",
       "Expense Ratio (%)            0\n",
       "Morningstar Rank             0\n",
       "dtype: int64"
      ]
     },
     "execution_count": 8,
     "metadata": {},
     "output_type": "execute_result"
    }
   ],
   "source": [
    "data.isnull().sum()"
   ]
  },
  {
   "cell_type": "markdown",
   "metadata": {},
   "source": [
    "### Usage of isnull().sum()"
   ]
  },
  {
   "cell_type": "code",
   "execution_count": 11,
   "metadata": {},
   "outputs": [
    {
     "data": {
      "text/plain": [
       "2"
      ]
     },
     "execution_count": 11,
     "metadata": {},
     "output_type": "execute_result"
    }
   ],
   "source": [
    "# It counts the number of NaN values (null values) in the given DataFrame\n",
    "s = pd.Series([1, 2, 3, np.nan, np.nan])\n",
    "s.isnull().sum()"
   ]
  },
  {
   "cell_type": "code",
   "execution_count": 13,
   "metadata": {},
   "outputs": [
    {
     "data": {
      "text/plain": [
       "a    1\n",
       "b    2\n",
       "dtype: int64"
      ]
     },
     "execution_count": 13,
     "metadata": {},
     "output_type": "execute_result"
    }
   ],
   "source": [
    "# It also works for multiple columns\n",
    "df = pd.DataFrame({'a':[1,2,np.nan], 'b':[np.nan,1,np.nan]})\n",
    "df.isnull().sum()"
   ]
  }
 ],
 "metadata": {
  "kernelspec": {
   "display_name": "Python 3",
   "language": "python",
   "name": "python3"
  },
  "language_info": {
   "codemirror_mode": {
    "name": "ipython",
    "version": 3
   },
   "file_extension": ".py",
   "mimetype": "text/x-python",
   "name": "python",
   "nbconvert_exporter": "python",
   "pygments_lexer": "ipython3",
   "version": "3.6.4"
  }
 },
 "nbformat": 4,
 "nbformat_minor": 2
}
