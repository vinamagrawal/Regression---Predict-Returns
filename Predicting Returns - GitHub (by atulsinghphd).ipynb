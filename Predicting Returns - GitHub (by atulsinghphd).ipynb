{
 "cells": [
  {
   "cell_type": "markdown",
   "metadata": {},
   "source": [
    "# Regression: Predict 5 year returns on an MF"
   ]
  },
  {
   "cell_type": "markdown",
   "metadata": {},
   "source": [
    "## Read Data"
   ]
  },
  {
   "cell_type": "code",
   "execution_count": 10,
   "metadata": {},
   "outputs": [
    {
     "data": {
      "text/plain": [
       "['Data', 'Sheet2', 'Sheet3']"
      ]
     },
     "execution_count": 10,
     "metadata": {},
     "output_type": "execute_result"
    }
   ],
   "source": [
    "import numpy as np\n",
    "import pandas as pd\n",
    "xlsx = pd.ExcelFile('./MutualFunds.xlsx')\n",
    "xlsx.sheet_names"
   ]
  },
  {
   "cell_type": "code",
   "execution_count": 3,
   "metadata": {},
   "outputs": [],
   "source": [
    "data = xlsx.parse('Data')"
   ]
  },
  {
   "cell_type": "code",
   "execution_count": 6,
   "metadata": {},
   "outputs": [
    {
     "data": {
      "text/html": [
       "<div>\n",
       "<style scoped>\n",
       "    .dataframe tbody tr th:only-of-type {\n",
       "        vertical-align: middle;\n",
       "    }\n",
       "\n",
       "    .dataframe tbody tr th {\n",
       "        vertical-align: top;\n",
       "    }\n",
       "\n",
       "    .dataframe thead th {\n",
       "        text-align: right;\n",
       "    }\n",{
 "cells": [
  {
   "cell_type": "markdown",
   "metadata": {},
   "source": [
    "# Regression: Predict 5 year returns on an MF"
   ]
  },
  {
   "cell_type": "markdown",
   "metadata": {},
   "source": [
    "## Read Data"
   ]
  },
  {
   "cell_type": "code",
   "execution_count": 10,
   "metadata": {},
   "outputs": [
    {
     "data": {
      "text/plain": [
       "['Data', 'Sheet2', 'Sheet3']"
      ]
     },
     "execution_count": 10,
     "metadata": {},
     "output_type": "execute_result"
    }
   ],
   "source": [
    "import numpy as np\n",
    "import pandas as pd\n",
    "xlsx = pd.ExcelFile('./MutualFunds.xlsx')\n",
    "xlsx.sheet_names"
   ]
  },
  {
   "cell_type": "code",
   "execution_count": 3,
   "metadata": {},
   "outputs": [],
   "source": [
    "data = xlsx.parse('Data')"
   ]
  },
  {
   "cell_type": "code",
   "execution_count": 6,
   "metadata": {},
   "outputs": [
    {
     "data": {
      "text/html": [
       "<div>\n",
       "<style scoped>\n",
       "    .dataframe tbody tr th:only-of-type {\n",
       "        vertical-align: middle;\n",
       "    }\n",
       "\n",
       "    .dataframe tbody tr th {\n",
       "        vertical-align: top;\n",
       "    }\n",
       "\n",
       "    .dataframe thead th {\n",
       "        text-align: right;\n",
       "    }\n",
       "</style>\n",
       "<table border=\"1\" class=\"dataframe\">\n",
       "  <thead>\n",
       "    <tr style=\"text-align: right;\">\n",
       "      <th></th>\n",
       "      <th>Fund Name</th>\n",
       "      <th>Fund Type</th>\n",
       "      <th>Net Asset Value ($)</th>\n",
       "      <th>5 Year Average Return (%)</th>\n",
       "      <th>Expense Ratio (%)</th>\n",
       "      <th>Morningstar Rank</th>\n",
       "    </tr>\n",
       "  </thead>\n",
       "  <tbody>\n",
       "    <tr>\n",
       "      <th>0</th>\n",
       "      <td>Amer Cent Inc &amp; Growth Inv</td>\n",
       "      <td>DE</td>\n",
       "      <td>28.88</td>\n",
       "      <td>12.39</td>\n",
       "      <td>0.67</td>\n",
       "      <td>2-Star</td>\n",
       "    </tr>\n",
       "    <tr>\n",
       "      <th>1</th>\n",
       "      <td>American Century Intl. Disc</td>\n",
       "      <td>IE</td>\n",
       "      <td>14.37</td>\n",
       "      <td>30.53</td>\n",
       "      <td>1.41</td>\n",
       "      <td>3-Star</td>\n",
       "    </tr>\n",
       "    <tr>\n",
       "      <th>2</th>\n",
       "      <td>American Century Tax-Free Bond</td>\n",
       "      <td>FI</td>\n",
       "      <td>10.73</td>\n",
       "      <td>3.34</td>\n",
       "      <td>0.49</td>\n",
       "      <td>4-Star</td>\n",
       "    </tr>\n",
       "    <tr>\n",
       "      <th>3</th>\n",
       "      <td>American Century Ultra</td>\n",
       "      <td>DE</td>\n",
       "      <td>24.94</td>\n",
       "      <td>10.88</td>\n",
       "      <td>0.99</td>\n",
       "      <td>3-Star</td>\n",
       "    </tr>\n",
       "    <tr>\n",
       "      <th>4</th>\n",
       "      <td>Ariel</td>\n",
       "      <td>DE</td>\n",
       "      <td>46.39</td>\n",
       "      <td>11.32</td>\n",
       "      <td>1.03</td>\n",
       "      <td>2-Star</td>\n",
       "    </tr>\n",
       "    <tr>\n",
       "      <th>5</th>\n",
       "      <td>Artisan Intl Val</td>\n",
       "      <td>IE</td>\n",
       "      <td>25.52</td>\n",
       "      <td>24.95</td>\n",
       "      <td>1.23</td>\n",
       "      <td>3-Star</td>\n",
       "    </tr>\n",
       "    <tr>\n",
       "      <th>6</th>\n",
       "      <td>Artisan Small Cap</td>\n",
       "      <td>DE</td>\n",
       "      <td>16.92</td>\n",
       "      <td>15.67</td>\n",
       "      <td>1.18</td>\n",
       "      <td>3-Star</td>\n",
       "    </tr>\n",
       "    <tr>\n",
       "      <th>7</th>\n",
       "      <td>Baron Asset</td>\n",
       "      <td>DE</td>\n",
       "      <td>50.67</td>\n",
       "      <td>16.77</td>\n",
       "      <td>1.31</td>\n",
       "      <td>5-Star</td>\n",
       "    </tr>\n",
       "    <tr>\n",
       "      <th>8</th>\n",
       "      <td>Brandywine</td>\n",
       "      <td>DE</td>\n",
       "      <td>36.58</td>\n",
       "      <td>18.14</td>\n",
       "      <td>1.08</td>\n",
       "      <td>4-Star</td>\n",
       "    </tr>\n",
       "    <tr>\n",
       "      <th>9</th>\n",
       "      <td>Brown Cap Small</td>\n",
       "      <td>DE</td>\n",
       "      <td>35.73</td>\n",
       "      <td>15.85</td>\n",
       "      <td>1.20</td>\n",
       "      <td>4-Star</td>\n",
       "    </tr>\n",
       "  </tbody>\n",
       "</table>\n",
       "</div>"
      ],
      "text/plain": [
       "                        Fund Name Fund Type  Net Asset Value ($)  \\\n",
       "0      Amer Cent Inc & Growth Inv        DE                28.88   \n",
       "1     American Century Intl. Disc        IE                14.37   \n",
       "2  American Century Tax-Free Bond        FI                10.73   \n",
       "3          American Century Ultra        DE                24.94   \n",
       "4                           Ariel        DE                46.39   \n",
       "5                Artisan Intl Val        IE                25.52   \n",
       "6               Artisan Small Cap        DE                16.92   \n",
       "7                     Baron Asset        DE                50.67   \n",
       "8                      Brandywine        DE                36.58   \n",
       "9                Brown Cap Small         DE                35.73   \n",
       "\n",
       "   5 Year Average Return (%)  Expense Ratio (%) Morningstar Rank  \n",
       "0                      12.39               0.67           2-Star  \n",
       "1                      30.53               1.41           3-Star  \n",
       "2                       3.34               0.49           4-Star  \n",
       "3                      10.88               0.99           3-Star  \n",
       "4                      11.32               1.03           2-Star  \n",
       "5                      24.95               1.23           3-Star  \n",
       "6                      15.67               1.18           3-Star  \n",
       "7                      16.77               1.31           5-Star  \n",
       "8                      18.14               1.08           4-Star  \n",
       "9                      15.85               1.20           4-Star  "
      ]
     },
     "execution_count": 6,
     "metadata": {},
     "output_type": "execute_result"
    }
   ],
   "source": [
    "data.head(n = 10) #value of n is 5, by default"
   ]
  },
  {
   "cell_type": "markdown",
   "metadata": {},
   "source": [
    "## Data Exploration"
   ]
  },
  {
   "cell_type": "code",
   "execution_count": 8,
   "metadata": {},
   "outputs": [
    {
     "data": {
      "text/plain": [
       "Fund Name                    0\n",
       "Fund Type                    0\n",
       "Net Asset Value ($)          0\n",
       "5 Year Average Return (%)    0\n",
       "Expense Ratio (%)            0\n",
       "Morningstar Rank             0\n",
       "dtype: int64"
      ]
     },
     "execution_count": 8,
     "metadata": {},
     "output_type": "execute_result"
    }
   ],
   "source": [
    "data.isnull().sum()"
   ]
  },
  {
   "cell_type": "markdown",
   "metadata": {},
   "source": [
    "### Usage of isnull().sum()"
   ]
  },
  {
   "cell_type": "code",
   "execution_count": 11,
   "metadata": {},
   "outputs": [
    {
     "data": {
      "text/plain": [
       "2"
      ]
     },
     "execution_count": 11,
     "metadata": {},
     "output_type": "execute_result"
    }
   ],
   "source": [
    "# It counts the number of NaN values (null values) in the given DataFrame\n",
    "s = pd.Series([1, 2, 3, np.nan, np.nan])\n",
    "s.isnull().sum()"
   ]
  },
  {
   "cell_type": "code",
   "execution_count": 13,
   "metadata": {},
   "outputs": [
    {
     "data": {
      "text/plain": [
       "a    1\n",
       "b    2\n",
       "dtype: int64"
      ]
     },
     "execution_count": 13,
     "metadata": {},
     "output_type": "execute_result"
    }
   ],
   "source": [
    "# It also works for multiple columns\n",
    "df = pd.DataFrame({'a':[1,2,np.nan], 'b':[np.nan,1,np.nan]})\n",
    "df.isnull().sum()"
   ]
  },
  {
   "cell_type": "code",
   "execution_count": 14,
   "metadata": {},
   "outputs": [
    {
     "data": {
      "text/html": [
       "<div>\n",
       "<style scoped>\n",
       "    .dataframe tbody tr th:only-of-type {\n",
       "        vertical-align: middle;\n",
       "    }\n",
       "\n",
       "    .dataframe tbody tr th {\n",
       "        vertical-align: top;\n",
       "    }\n",
       "\n",
       "    .dataframe thead th {\n",
       "        text-align: right;\n",
       "    }\n",
       "</style>\n",
       "<table border=\"1\" class=\"dataframe\">\n",
       "  <thead>\n",
       "    <tr style=\"text-align: right;\">\n",
       "      <th></th>\n",
       "      <th>Net Asset Value ($)</th>\n",
       "      <th>5 Year Average Return (%)</th>\n",
       "      <th>Expense Ratio (%)</th>\n",
       "    </tr>\n",
       "  </thead>\n",
       "  <tbody>\n",
       "    <tr>\n",
       "      <th>count</th>\n",
       "      <td>45.000000</td>\n",
       "      <td>45.000000</td>\n",
       "      <td>45.000000</td>\n",
       "    </tr>\n",
       "    <tr>\n",
       "      <th>mean</th>\n",
       "      <td>28.008222</td>\n",
       "      <td>15.043111</td>\n",
       "      <td>0.903111</td>\n",
       "    </tr>\n",
       "    <tr>\n",
       "      <th>std</th>\n",
       "      <td>15.050313</td>\n",
       "      <td>8.807185</td>\n",
       "      <td>0.357217</td>\n",
       "    </tr>\n",
       "    <tr>\n",
       "      <th>min</th>\n",
       "      <td>8.600000</td>\n",
       "      <td>2.370000</td>\n",
       "      <td>0.160000</td>\n",
       "    </tr>\n",
       "    <tr>\n",
       "      <th>25%</th>\n",
       "      <td>15.290000</td>\n",
       "      <td>11.320000</td>\n",
       "      <td>0.620000</td>\n",
       "    </tr>\n",
       "    <tr>\n",
       "      <th>50%</th>\n",
       "      <td>24.940000</td>\n",
       "      <td>15.310000</td>\n",
       "      <td>1.000000</td>\n",
       "    </tr>\n",
       "    <tr>\n",
       "      <th>75%</th>\n",
       "      <td>36.580000</td>\n",
       "      <td>17.250000</td>\n",
       "      <td>1.200000</td>\n",
       "    </tr>\n",
       "    <tr>\n",
       "      <th>max</th>\n",
       "      <td>73.110000</td>\n",
       "      <td>51.100000</td>\n",
       "      <td>1.410000</td>\n",
       "    </tr>\n",
       "  </tbody>\n",
       "</table>\n",
       "</div>"
      ],
      "text/plain": [
       "       Net Asset Value ($)  5 Year Average Return (%)  Expense Ratio (%)\n",
       "count            45.000000                  45.000000          45.000000\n",
       "mean             28.008222                  15.043111           0.903111\n",
       "std              15.050313                   8.807185           0.357217\n",
       "min               8.600000                   2.370000           0.160000\n",
       "25%              15.290000                  11.320000           0.620000\n",
       "50%              24.940000                  15.310000           1.000000\n",
       "75%              36.580000                  17.250000           1.200000\n",
       "max              73.110000                  51.100000           1.410000"
      ]
     },
     "execution_count": 14,
     "metadata": {},
     "output_type": "execute_result"
    }
   ],
   "source": [
    "data.describe()"
   ]
  },
  {
   "cell_type": "code",
   "execution_count": 16,
   "metadata": {},
   "outputs": [
    {
     "data": {
      "text/html": [
       "<div>\n",
       "<style scoped>\n",
       "    .dataframe tbody tr th:only-of-type {\n",
       "        vertical-align: middle;\n",
       "    }\n",
       "\n",
       "    .dataframe tbody tr th {\n",
       "        vertical-align: top;\n",
       "    }\n",
       "\n",
       "    .dataframe thead th {\n",
       "        text-align: right;\n",
       "    }\n",
       "</style>\n",
       "<table border=\"1\" class=\"dataframe\">\n",
       "  <thead>\n",
       "    <tr style=\"text-align: right;\">\n",
       "      <th></th>\n",
       "      <th>Fund Name</th>\n",
       "      <th>Fund Type</th>\n",
       "      <th>Net Asset Value ($)</th>\n",
       "      <th>5 Year Average Return (%)</th>\n",
       "      <th>Expense Ratio (%)</th>\n",
       "      <th>Morningstar Rank</th>\n",
       "    </tr>\n",
       "  </thead>\n",
       "  <tbody>\n",
       "    <tr>\n",
       "      <th>count</th>\n",
       "      <td>45</td>\n",
       "      <td>45</td>\n",
       "      <td>45.000000</td>\n",
       "      <td>45.000000</td>\n",
       "      <td>45.000000</td>\n",
       "      <td>45</td>\n",
       "    </tr>\n",
       "    <tr>\n",
       "      <th>unique</th>\n",
       "      <td>45</td>\n",
       "      <td>3</td>\n",
       "      <td>NaN</td>\n",
       "      <td>NaN</td>\n",
       "      <td>NaN</td>\n",
       "      <td>4</td>\n",
       "    </tr>\n",
       "    <tr>\n",
       "      <th>top</th>\n",
       "      <td>Artisan Intl Val</td>\n",
       "      <td>DE</td>\n",
       "      <td>NaN</td>\n",
       "      <td>NaN</td>\n",
       "      <td>NaN</td>\n",
       "      <td>3-Star</td>\n",
       "    </tr>\n",
       "    <tr>\n",
       "      <th>freq</th>\n",
       "      <td>1</td>\n",
       "      <td>27</td>\n",
       "      <td>NaN</td>\n",
       "      <td>NaN</td>\n",
       "      <td>NaN</td>\n",
       "      <td>18</td>\n",
       "    </tr>\n",
       "    <tr>\n",
       "      <th>mean</th>\n",
       "      <td>NaN</td>\n",
       "      <td>NaN</td>\n",
       "      <td>28.008222</td>\n",
       "      <td>15.043111</td>\n",
       "      <td>0.903111</td>\n",
       "      <td>NaN</td>\n",
       "    </tr>\n",
       "    <tr>\n",
       "      <th>std</th>\n",
       "      <td>NaN</td>\n",
       "      <td>NaN</td>\n",
       "      <td>15.050313</td>\n",
       "      <td>8.807185</td>\n",
       "      <td>0.357217</td>\n",
       "      <td>NaN</td>\n",
       "    </tr>\n",
       "    <tr>\n",
       "      <th>min</th>\n",
       "      <td>NaN</td>\n",
       "      <td>NaN</td>\n",
       "      <td>8.600000</td>\n",
       "      <td>2.370000</td>\n",
       "      <td>0.160000</td>\n",
       "      <td>NaN</td>\n",
       "    </tr>\n",
       "    <tr>\n",
       "      <th>25%</th>\n",
       "      <td>NaN</td>\n",
       "      <td>NaN</td>\n",
       "      <td>15.290000</td>\n",
       "      <td>11.320000</td>\n",
       "      <td>0.620000</td>\n",
       "      <td>NaN</td>\n",
       "    </tr>\n",
       "    <tr>\n",
       "      <th>50%</th>\n",
       "      <td>NaN</td>\n",
       "      <td>NaN</td>\n",
       "      <td>24.940000</td>\n",
       "      <td>15.310000</td>\n",
       "      <td>1.000000</td>\n",
       "      <td>NaN</td>\n",
       "    </tr>\n",
       "    <tr>\n",
       "      <th>75%</th>\n",
       "      <td>NaN</td>\n",
       "      <td>NaN</td>\n",
       "      <td>36.580000</td>\n",
       "      <td>17.250000</td>\n",
       "      <td>1.200000</td>\n",
       "      <td>NaN</td>\n",
       "    </tr>\n",
       "    <tr>\n",
       "      <th>max</th>\n",
       "      <td>NaN</td>\n",
       "      <td>NaN</td>\n",
       "      <td>73.110000</td>\n",
       "      <td>51.100000</td>\n",
       "      <td>1.410000</td>\n",
       "      <td>NaN</td>\n",
       "    </tr>\n",
       "  </tbody>\n",
       "</table>\n",
       "</div>"
      ],
      "text/plain": [
       "               Fund Name Fund Type  Net Asset Value ($)  \\\n",
       "count                 45        45            45.000000   \n",
       "unique                45         3                  NaN   \n",
       "top     Artisan Intl Val        DE                  NaN   \n",
       "freq                   1        27                  NaN   \n",
       "mean                 NaN       NaN            28.008222   \n",
       "std                  NaN       NaN            15.050313   \n",
       "min                  NaN       NaN             8.600000   \n",
       "25%                  NaN       NaN            15.290000   \n",
       "50%                  NaN       NaN            24.940000   \n",
       "75%                  NaN       NaN            36.580000   \n",
       "max                  NaN       NaN            73.110000   \n",
       "\n",
       "        5 Year Average Return (%)  Expense Ratio (%) Morningstar Rank  \n",
       "count                   45.000000          45.000000               45  \n",
       "unique                        NaN                NaN                4  \n",
       "top                           NaN                NaN           3-Star  \n",
       "freq                          NaN                NaN               18  \n",
       "mean                    15.043111           0.903111              NaN  \n",
       "std                      8.807185           0.357217              NaN  \n",
       "min                      2.370000           0.160000              NaN  \n",
       "25%                     11.320000           0.620000              NaN  \n",
       "50%                     15.310000           1.000000              NaN  \n",
       "75%                     17.250000           1.200000              NaN  \n",
       "max                     51.100000           1.410000              NaN  "
      ]
     },
     "execution_count": 16,
     "metadata": {},
     "output_type": "execute_result"
    }
   ],
   "source": [
    "data.describe(include = 'all')"
   ]
  },
  {
   "cell_type": "markdown",
   "metadata": {},
   "source": [
    "## Plotting using SeaBorn"
   ]
  },
  {
   "cell_type": "code",
   "execution_count": 18,
   "metadata": {},
   "outputs": [],
   "source": [
    "import seaborn as sns\n",
    "import matplotlib.pyplot as plt\n",
    "%matplotlib inline"
   ]
  },
  {
   "cell_type": "code",
   "execution_count": 21,
   "metadata": {},
   "outputs": [
    {
     "data": {
      "text/plain": [
       "<seaborn.axisgrid.PairGrid at 0xbe1cf28>"
      ]
     },
     "execution_count": 21,
     "metadata": {},
     "output_type": "execute_result"
    },
    {
     "data": {
      "image/png": "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\n",
      "text/plain": [
       "<matplotlib.figure.Figure at 0xbe5b208>"
      ]
     },
     "metadata": {},
     "output_type": "display_data"
    }
   ],
   "source": [
    "sns.pairplot(data)"
   ]
  },
  {
   "cell_type": "code",
   "execution_count": 24,
   "metadata": {},
   "outputs": [
    {
     "data": {
      "text/plain": [
       "<seaborn.axisgrid.JointGrid at 0xc9490f0>"
      ]
     },
     "execution_count": 24,
     "metadata": {},
     "output_type": "execute_result"
    },
    {
     "data": {
      "image/png": "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\n",
      "text/plain": [
       "<matplotlib.figure.Figure at 0xc949358>"
      ]
     },
     "metadata": {},
     "output_type": "display_data"
    }
   ],
   "source": [
    "sns.jointplot(data['Net Asset Value ($)'], data['5 Year Average Return (%)'])"
   ]
  },
  {
   "cell_type": "code",
   "execution_count": 25,
   "metadata": {},
   "outputs": [
    {
     "data": {
      "text/plain": [
       "<seaborn.axisgrid.JointGrid at 0xc949b38>"
      ]
     },
     "execution_count": 25,
     "metadata": {},
     "output_type": "execute_result"
    },
    {
     "data": {
      "image/png": "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\n",
      "text/plain": [
       "<matplotlib.figure.Figure at 0xc9494a8>"
      ]
     },
     "metadata": {},
     "output_type": "display_data"
    }
   ],
   "source": [
    "sns.jointplot(data['Expense Ratio (%)'], data['5 Year Average Return (%)'])"
   ]
  },
  {
   "cell_type": "markdown",
   "metadata": {},
   "source": [
    "## Encoding Categorical Data"
   ]
  },
  {
   "cell_type": "code",
   "execution_count": 27,
   "metadata": {},
   "outputs": [],
   "source": [
    "def create_dummies( df, colname ):\n",
    "    col_dummies = pd.get_dummies(df[colname], prefix=colname)\n",
    "    col_dummies.drop(col_dummies.columns[0], axis=1, inplace=True)\n",
    "    df = pd.concat([df, col_dummies], axis=1)\n",
    "    df.drop( colname, axis = 1, inplace = True )\n",
    "    return df"
   ]
  },
  {
   "cell_type": "code",
   "execution_count": 29,
   "metadata": {},
   "outputs": [
    {
     "data": {
      "text/plain": [
       "Index(['Fund Name', 'Fund Type', 'Net Asset Value ($)',\n",
       "       '5 Year Average Return (%)', 'Expense Ratio (%)', 'Morningstar Rank'],\n",
       "      dtype='object')"
      ]
     },
     "execution_count": 29,
     "metadata": {},
     "output_type": "execute_result"
    }
   ],
   "source": [
    "data.columns"
   ]
  },
  {
   "cell_type": "code",
   "execution_count": 31,
   "metadata": {},
   "outputs": [],
   "source": [
    "categorical_features = ['Fund Type', 'Morningstar Rank']"
   ]
  },
  {
   "cell_type": "code",
   "execution_count": 32,
   "metadata": {},
   "outputs": [],
   "source": [
    "data_tmp = data"
   ]
  },
  {
   "cell_type": "code",
   "execution_count": 33,
   "metadata": {},
   "outputs": [],
   "source": [
    "for c_feature in categorical_features:\n",
    "  data = create_dummies( data, c_feature )"
   ]
  },
  {
   "cell_type": "code",
   "execution_count": 35,
   "metadata": {},
   "outputs": [
    {
     "data": {
      "text/html": [
       "<div>\n",
       "<style scoped>\n",
       "    .dataframe tbody tr th:only-of-type {\n",
       "        vertical-align: middle;\n",
       "    }\n",
       "\n",
       "    .dataframe tbody tr th {\n",
       "        vertical-align: top;\n",
       "    }\n",
       "\n",
       "    .dataframe thead th {\n",
       "        text-align: right;\n",
       "    }\n",
       "</style>\n",
       "<table border=\"1\" class=\"dataframe\">\n",
       "  <thead>\n",
       "    <tr style=\"text-align: right;\">\n",
       "      <th></th>\n",
       "      <th>Fund Name</th>\n",
       "      <th>Net Asset Value ($)</th>\n",
       "      <th>5 Year Average Return (%)</th>\n",
       "      <th>Expense Ratio (%)</th>\n",
       "      <th>Fund Type_FI</th>\n",
       "      <th>Fund Type_IE</th>\n",
       "      <th>Morningstar Rank_3-Star</th>\n",
       "      <th>Morningstar Rank_4-Star</th>\n",
       "      <th>Morningstar Rank_5-Star</th>\n",
       "    </tr>\n",
       "  </thead>\n",
       "  <tbody>\n",
       "    <tr>\n",
       "      <th>0</th>\n",
       "      <td>Amer Cent Inc &amp; Growth Inv</td>\n",
       "      <td>28.88</td>\n",
       "      <td>12.39</td>\n",
       "      <td>0.67</td>\n",
       "      <td>0</td>\n",
       "      <td>0</td>\n",
       "      <td>0</td>\n",
       "      <td>0</td>\n",
       "      <td>0</td>\n",
       "    </tr>\n",
       "    <tr>\n",
       "      <th>1</th>\n",
       "      <td>American Century Intl. Disc</td>\n",
       "      <td>14.37</td>\n",
       "      <td>30.53</td>\n",
       "      <td>1.41</td>\n",
       "      <td>0</td>\n",
       "      <td>1</td>\n",
       "      <td>1</td>\n",
       "      <td>0</td>\n",
       "      <td>0</td>\n",
       "    </tr>\n",
       "    <tr>\n",
       "      <th>2</th>\n",
       "      <td>American Century Tax-Free Bond</td>\n",
       "      <td>10.73</td>\n",
       "      <td>3.34</td>\n",
       "      <td>0.49</td>\n",
       "      <td>1</td>\n",
       "      <td>0</td>\n",
       "      <td>0</td>\n",
       "      <td>1</td>\n",
       "      <td>0</td>\n",
       "    </tr>\n",
       "    <tr>\n",
       "      <th>3</th>\n",
       "      <td>American Century Ultra</td>\n",
       "      <td>24.94</td>\n",
       "      <td>10.88</td>\n",
       "      <td>0.99</td>\n",
       "      <td>0</td>\n",
       "      <td>0</td>\n",
       "      <td>1</td>\n",
       "      <td>0</td>\n",
       "      <td>0</td>\n",
       "    </tr>\n",
       "    <tr>\n",
       "      <th>4</th>\n",
       "      <td>Ariel</td>\n",
       "      <td>46.39</td>\n",
       "      <td>11.32</td>\n",
       "      <td>1.03</td>\n",
       "      <td>0</td>\n",
       "      <td>0</td>\n",
       "      <td>0</td>\n",
       "      <td>0</td>\n",
       "      <td>0</td>\n",
       "    </tr>\n",
       "    <tr>\n",
       "      <th>5</th>\n",
       "      <td>Artisan Intl Val</td>\n",
       "      <td>25.52</td>\n",
       "      <td>24.95</td>\n",
       "      <td>1.23</td>\n",
       "      <td>0</td>\n",
       "      <td>1</td>\n",
       "      <td>1</td>\n",
       "      <td>0</td>\n",
       "      <td>0</td>\n",
       "    </tr>\n",
       "    <tr>\n",
       "      <th>6</th>\n",
       "      <td>Artisan Small Cap</td>\n",
       "      <td>16.92</td>\n",
       "      <td>15.67</td>\n",
       "      <td>1.18</td>\n",
       "      <td>0</td>\n",
       "      <td>0</td>\n",
       "      <td>1</td>\n",
       "      <td>0</td>\n",
       "      <td>0</td>\n",
       "    </tr>\n",
       "  </tbody>\n",
       "</table>\n",
       "</div>"
      ],
      "text/plain": [
       "                        Fund Name  Net Asset Value ($)  \\\n",
       "0      Amer Cent Inc & Growth Inv                28.88   \n",
       "1     American Century Intl. Disc                14.37   \n",
       "2  American Century Tax-Free Bond                10.73   \n",
       "3          American Century Ultra                24.94   \n",
       "4                           Ariel                46.39   \n",
       "5                Artisan Intl Val                25.52   \n",
       "6               Artisan Small Cap                16.92   \n",
       "\n",
       "   5 Year Average Return (%)  Expense Ratio (%)  Fund Type_FI  Fund Type_IE  \\\n",
       "0                      12.39               0.67             0             0   \n",
       "1                      30.53               1.41             0             1   \n",
       "2                       3.34               0.49             1             0   \n",
       "3                      10.88               0.99             0             0   \n",
       "4                      11.32               1.03             0             0   \n",
       "5                      24.95               1.23             0             1   \n",
       "6                      15.67               1.18             0             0   \n",
       "\n",
       "   Morningstar Rank_3-Star  Morningstar Rank_4-Star  Morningstar Rank_5-Star  \n",
       "0                        0                        0                        0  \n",
       "1                        1                        0                        0  \n",
       "2                        0                        1                        0  \n",
       "3                        1                        0                        0  \n",
       "4                        0                        0                        0  \n",
       "5                        1                        0                        0  \n",
       "6                        1                        0                        0  "
      ]
     },
     "execution_count": 35,
     "metadata": {},
     "output_type": "execute_result"
    }
   ],
   "source": [
    "data.head(n = 7)"
   ]
  },
  {
   "cell_type": "code",
   "execution_count": 36,
   "metadata": {},
   "outputs": [
    {
     "data": {
      "text/html": [
       "<div>\n",
       "<style scoped>\n",
       "    .dataframe tbody tr th:only-of-type {\n",
       "        vertical-align: middle;\n",
       "    }\n",
       "\n",
       "    .dataframe tbody tr th {\n",
       "        vertical-align: top;\n",
       "    }\n",
       "\n",
       "    .dataframe thead th {\n",
       "        text-align: right;\n",
       "    }\n",
       "</style>\n",
       "<table border=\"1\" class=\"dataframe\">\n",
       "  <thead>\n",
       "    <tr style=\"text-align: right;\">\n",
       "      <th></th>\n",
       "      <th>Net Asset Value ($)</th>\n",
       "      <th>5 Year Average Return (%)</th>\n",
       "      <th>Expense Ratio (%)</th>\n",
       "      <th>Fund Type_FI</th>\n",
       "      <th>Fund Type_IE</th>\n",
       "      <th>Morningstar Rank_3-Star</th>\n",
       "      <th>Morningstar Rank_4-Star</th>\n",
       "      <th>Morningstar Rank_5-Star</th>\n",
       "    </tr>\n",
       "  </thead>\n",
       "  <tbody>\n",
       "    <tr>\n",
       "      <th>Net Asset Value ($)</th>\n",
       "      <td>1.000000</td>\n",
       "      <td>0.415647</td>\n",
       "      <td>0.325044</td>\n",
       "      <td>-0.593788</td>\n",
       "      <td>0.189712</td>\n",
       "      <td>-0.409555</td>\n",
       "      <td>0.220770</td>\n",
       "      <td>0.024348</td>\n",
       "    </tr>\n",
       "    <tr>\n",
       "      <th>5 Year Average Return (%)</th>\n",
       "      <td>0.415647</td>\n",
       "      <td>1.000000</td>\n",
       "      <td>0.558395</td>\n",
       "      <td>-0.622006</td>\n",
       "      <td>0.616594</td>\n",
       "      <td>-0.036075</td>\n",
       "      <td>0.206740</td>\n",
       "      <td>-0.110957</td>\n",
       "    </tr>\n",
       "    <tr>\n",
       "      <th>Expense Ratio (%)</th>\n",
       "      <td>0.325044</td>\n",
       "      <td>0.558395</td>\n",
       "      <td>1.000000</td>\n",
       "      <td>-0.566128</td>\n",
       "      <td>0.201594</td>\n",
       "      <td>-0.027739</td>\n",
       "      <td>0.137906</td>\n",
       "      <td>-0.134091</td>\n",
       "    </tr>\n",
       "    <tr>\n",
       "      <th>Fund Type_FI</th>\n",
       "      <td>-0.593788</td>\n",
       "      <td>-0.622006</td>\n",
       "      <td>-0.566128</td>\n",
       "      <td>1.000000</td>\n",
       "      <td>-0.248548</td>\n",
       "      <td>0.109109</td>\n",
       "      <td>-0.151186</td>\n",
       "      <td>0.170877</td>\n",
       "    </tr>\n",
       "    <tr>\n",
       "      <th>Fund Type_IE</th>\n",
       "      <td>0.189712</td>\n",
       "      <td>0.616594</td>\n",
       "      <td>0.201594</td>\n",
       "      <td>-0.248548</td>\n",
       "      <td>1.000000</td>\n",
       "      <td>0.094916</td>\n",
       "      <td>-0.082199</td>\n",
       "      <td>-0.064189</td>\n",
       "    </tr>\n",
       "    <tr>\n",
       "      <th>Morningstar Rank_3-Star</th>\n",
       "      <td>-0.409555</td>\n",
       "      <td>-0.036075</td>\n",
       "      <td>-0.027739</td>\n",
       "      <td>0.109109</td>\n",
       "      <td>0.094916</td>\n",
       "      <td>1.000000</td>\n",
       "      <td>-0.577350</td>\n",
       "      <td>-0.379663</td>\n",
       "    </tr>\n",
       "    <tr>\n",
       "      <th>Morningstar Rank_4-Star</th>\n",
       "      <td>0.220770</td>\n",
       "      <td>0.206740</td>\n",
       "      <td>0.137906</td>\n",
       "      <td>-0.151186</td>\n",
       "      <td>-0.082199</td>\n",
       "      <td>-0.577350</td>\n",
       "      <td>1.000000</td>\n",
       "      <td>-0.328798</td>\n",
       "    </tr>\n",
       "    <tr>\n",
       "      <th>Morningstar Rank_5-Star</th>\n",
       "      <td>0.024348</td>\n",
       "      <td>-0.110957</td>\n",
       "      <td>-0.134091</td>\n",
       "      <td>0.170877</td>\n",
       "      <td>-0.064189</td>\n",
       "      <td>-0.379663</td>\n",
       "      <td>-0.328798</td>\n",
       "      <td>1.000000</td>\n",
       "    </tr>\n",
       "  </tbody>\n",
       "</table>\n",
       "</div>"
      ],
      "text/plain": [
       "                           Net Asset Value ($)  5 Year Average Return (%)  \\\n",
       "Net Asset Value ($)                   1.000000                   0.415647   \n",
       "5 Year Average Return (%)             0.415647                   1.000000   \n",
       "Expense Ratio (%)                     0.325044                   0.558395   \n",
       "Fund Type_FI                         -0.593788                  -0.622006   \n",
       "Fund Type_IE                          0.189712                   0.616594   \n",
       "Morningstar Rank_3-Star              -0.409555                  -0.036075   \n",
       "Morningstar Rank_4-Star               0.220770                   0.206740   \n",
       "Morningstar Rank_5-Star               0.024348                  -0.110957   \n",
       "\n",
       "                           Expense Ratio (%)  Fund Type_FI  Fund Type_IE  \\\n",
       "Net Asset Value ($)                 0.325044     -0.593788      0.189712   \n",
       "5 Year Average Return (%)           0.558395     -0.622006      0.616594   \n",
       "Expense Ratio (%)                   1.000000     -0.566128      0.201594   \n",
       "Fund Type_FI                       -0.566128      1.000000     -0.248548   \n",
       "Fund Type_IE                        0.201594     -0.248548      1.000000   \n",
       "Morningstar Rank_3-Star            -0.027739      0.109109      0.094916   \n",
       "Morningstar Rank_4-Star             0.137906     -0.151186     -0.082199   \n",
       "Morningstar Rank_5-Star            -0.134091      0.170877     -0.064189   \n",
       "\n",
       "                           Morningstar Rank_3-Star  Morningstar Rank_4-Star  \\\n",
       "Net Asset Value ($)                      -0.409555                 0.220770   \n",
       "5 Year Average Return (%)                -0.036075                 0.206740   \n",
       "Expense Ratio (%)                        -0.027739                 0.137906   \n",
       "Fund Type_FI                              0.109109                -0.151186   \n",
       "Fund Type_IE                              0.094916                -0.082199   \n",
       "Morningstar Rank_3-Star                   1.000000                -0.577350   \n",
       "Morningstar Rank_4-Star                  -0.577350                 1.000000   \n",
       "Morningstar Rank_5-Star                  -0.379663                -0.328798   \n",
       "\n",
       "                           Morningstar Rank_5-Star  \n",
       "Net Asset Value ($)                       0.024348  \n",
       "5 Year Average Return (%)                -0.110957  \n",
       "Expense Ratio (%)                        -0.134091  \n",
       "Fund Type_FI                              0.170877  \n",
       "Fund Type_IE                             -0.064189  \n",
       "Morningstar Rank_3-Star                  -0.379663  \n",
       "Morningstar Rank_4-Star                  -0.328798  \n",
       "Morningstar Rank_5-Star                   1.000000  "
      ]
     },
     "execution_count": 36,
     "metadata": {},
     "output_type": "execute_result"
    }
   ],
   "source": [
    "data.corr()"
   ]
  },
  {
   "cell_type": "code",
   "execution_count": 37,
   "metadata": {},
   "outputs": [
    {
     "data": {
      "text/plain": [
       "Index(['Fund Name', 'Net Asset Value ($)', '5 Year Average Return (%)',\n",
       "       'Expense Ratio (%)', 'Fund Type_FI', 'Fund Type_IE',\n",
       "       'Morningstar Rank_3-Star', 'Morningstar Rank_4-Star',\n",
       "       'Morningstar Rank_5-Star'],\n",
       "      dtype='object')"
      ]
     },
     "execution_count": 37,
     "metadata": {},
     "output_type": "execute_result"
    }
   ],
   "source": [
    "data.columns"
   ]
  },
  {
   "cell_type": "code",
   "execution_count": 38,
   "metadata": {},
   "outputs": [],
   "source": [
    "# Changing column names\n",
    "data.columns = ['Name', 'NAV', 'AverageReturn',\n",
    "       'ExpenseRatio', 'FundType_FI', 'FundType_IE',\n",
    "       'Star3', 'Star4',\n",
    "       'Star5']"
   ]
  },
  {
   "cell_type": "code",
   "execution_count": 39,
   "metadata": {},
   "outputs": [
    {
     "data": {
      "text/html": [
       "<div>\n",
       "<style scoped>\n",
       "    .dataframe tbody tr th:only-of-type {\n",
       "        vertical-align: middle;\n",
       "    }\n",
       "\n",
       "    .dataframe tbody tr th {\n",
       "        vertical-align: top;\n",
       "    }\n",
       "\n",
       "    .dataframe thead th {\n",
       "        text-align: right;\n",
       "    }\n",
       "</style>\n",
       "<table border=\"1\" class=\"dataframe\">\n",
       "  <thead>\n",
       "    <tr style=\"text-align: right;\">\n",
       "      <th></th>\n",
       "      <th>Name</th>\n",
       "      <th>NAV</th>\n",
       "      <th>AverageReturn</th>\n",
       "      <th>ExpenseRatio</th>\n",
       "      <th>FundType_FI</th>\n",
       "      <th>FundType_IE</th>\n",
       "      <th>Star3</th>\n",
       "      <th>Star4</th>\n",
       "      <th>Star5</th>\n",
       "    </tr>\n",
       "  </thead>\n",
       "  <tbody>\n",
       "    <tr>\n",
       "      <th>0</th>\n",
       "      <td>Amer Cent Inc &amp; Growth Inv</td>\n",
       "      <td>28.88</td>\n",
       "      <td>12.39</td>\n",
       "      <td>0.67</td>\n",
       "      <td>0</td>\n",
       "      <td>0</td>\n",
       "      <td>0</td>\n",
       "      <td>0</td>\n",
       "      <td>0</td>\n",
       "    </tr>\n",
       "    <tr>\n",
       "      <th>1</th>\n",
       "      <td>American Century Intl. Disc</td>\n",
       "      <td>14.37</td>\n",
       "      <td>30.53</td>\n",
       "      <td>1.41</td>\n",
       "      <td>0</td>\n",
       "      <td>1</td>\n",
       "      <td>1</td>\n",
       "      <td>0</td>\n",
       "      <td>0</td>\n",
       "    </tr>\n",
       "    <tr>\n",
       "      <th>2</th>\n",
       "      <td>American Century Tax-Free Bond</td>\n",
       "      <td>10.73</td>\n",
       "      <td>3.34</td>\n",
       "      <td>0.49</td>\n",
       "      <td>1</td>\n",
       "      <td>0</td>\n",
       "      <td>0</td>\n",
       "      <td>1</td>\n",
       "      <td>0</td>\n",
       "    </tr>\n",
       "    <tr>\n",
       "      <th>3</th>\n",
       "      <td>American Century Ultra</td>\n",
       "      <td>24.94</td>\n",
       "      <td>10.88</td>\n",
       "      <td>0.99</td>\n",
       "      <td>0</td>\n",
       "      <td>0</td>\n",
       "      <td>1</td>\n",
       "      <td>0</td>\n",
       "      <td>0</td>\n",
       "    </tr>\n",
       "    <tr>\n",
       "      <th>4</th>\n",
       "      <td>Ariel</td>\n",
       "      <td>46.39</td>\n",
       "      <td>11.32</td>\n",
       "      <td>1.03</td>\n",
       "      <td>0</td>\n",
       "      <td>0</td>\n",
       "      <td>0</td>\n",
       "      <td>0</td>\n",
       "      <td>0</td>\n",
       "    </tr>\n",
       "  </tbody>\n",
       "</table>\n",
       "</div>"
      ],
      "text/plain": [
       "                             Name    NAV  AverageReturn  ExpenseRatio  \\\n",
       "0      Amer Cent Inc & Growth Inv  28.88          12.39          0.67   \n",
       "1     American Century Intl. Disc  14.37          30.53          1.41   \n",
       "2  American Century Tax-Free Bond  10.73           3.34          0.49   \n",
       "3          American Century Ultra  24.94          10.88          0.99   \n",
       "4                           Ariel  46.39          11.32          1.03   \n",
       "\n",
       "   FundType_FI  FundType_IE  Star3  Star4  Star5  \n",
       "0            0            0      0      0      0  \n",
       "1            0            1      1      0      0  \n",
       "2            1            0      0      1      0  \n",
       "3            0            0      1      0      0  \n",
       "4            0            0      0      0      0  "
      ]
     },
     "execution_count": 39,
     "metadata": {},
     "output_type": "execute_result"
    }
   ],
   "source": [
    "data.head()"
   ]
  },
  {
   "cell_type": "code",
   "execution_count": 41,
   "metadata": {},
   "outputs": [],
   "source": [
    "from sklearn.model_selection import train_test_split\n",
    "data_train, data_test = train_test_split(data, test_size=0.2)"
   ]
  },
  {
   "cell_type": "code",
   "execution_count": 42,
   "metadata": {},
   "outputs": [],
   "source": [
    "import statsmodels.formula.api as smf\n",
    "\n",
    "model = smf.ols(formula='AverageReturn ~ NAV + ExpenseRatio +  FundType_FI + FundType_IE  + Star3 + Star4 + Star5', data=data).fit()"
   ]
  },
  {
   "cell_type": "code",
   "execution_count": 43,
   "metadata": {},
   "outputs": [
    {
     "data": {
      "text/html": [
       "<table class=\"simpletable\">\n",
       "<caption>OLS Regression Results</caption>\n",
       "<tr>\n",
       "  <th>Dep. Variable:</th>      <td>AverageReturn</td>  <th>  R-squared:         </th> <td>   0.727</td>\n",
       "</tr>\n",
       "<tr>\n",
       "  <th>Model:</th>                   <td>OLS</td>       <th>  Adj. R-squared:    </th> <td>   0.676</td>\n",
       "</tr>\n",
       "<tr>\n",
       "  <th>Method:</th>             <td>Least Squares</td>  <th>  F-statistic:       </th> <td>   14.09</td>\n",
       "</tr>\n",
       "<tr>\n",
       "  <th>Date:</th>             <td>Thu, 24 May 2018</td> <th>  Prob (F-statistic):</th> <td>9.57e-09</td>\n",
       "</tr>\n",
       "<tr>\n",
       "  <th>Time:</th>                 <td>20:05:20</td>     <th>  Log-Likelihood:    </th> <td> -132.02</td>\n",
       "</tr>\n",
       "<tr>\n",
       "  <th>No. Observations:</th>      <td>    45</td>      <th>  AIC:               </th> <td>   280.0</td>\n",
       "</tr>\n",
       "<tr>\n",
       "  <th>Df Residuals:</th>          <td>    37</td>      <th>  BIC:               </th> <td>   294.5</td>\n",
       "</tr>\n",
       "<tr>\n",
       "  <th>Df Model:</th>              <td>     7</td>      <th>                     </th>     <td> </td>   \n",
       "</tr>\n",
       "<tr>\n",
       "  <th>Covariance Type:</th>      <td>nonrobust</td>    <th>                     </th>     <td> </td>   \n",
       "</tr>\n",
       "</table>\n",
       "<table class=\"simpletable\">\n",
       "<tr>\n",
       "        <td></td>          <th>coef</th>     <th>std err</th>      <th>t</th>      <th>P>|t|</th>  <th>[0.025</th>    <th>0.975]</th>  \n",
       "</tr>\n",
       "<tr>\n",
       "  <th>Intercept</th>    <td>    1.2704</td> <td>    4.520</td> <td>    0.281</td> <td> 0.780</td> <td>   -7.889</td> <td>   10.430</td>\n",
       "</tr>\n",
       "<tr>\n",
       "  <th>NAV</th>          <td>    0.0555</td> <td>    0.071</td> <td>    0.783</td> <td> 0.438</td> <td>   -0.088</td> <td>    0.199</td>\n",
       "</tr>\n",
       "<tr>\n",
       "  <th>ExpenseRatio</th> <td>    5.4909</td> <td>    2.600</td> <td>    2.112</td> <td> 0.041</td> <td>    0.223</td> <td>   10.758</td>\n",
       "</tr>\n",
       "<tr>\n",
       "  <th>FundType_FI</th>  <td>   -7.1560</td> <td>    2.629</td> <td>   -2.722</td> <td> 0.010</td> <td>  -12.482</td> <td>   -1.830</td>\n",
       "</tr>\n",
       "<tr>\n",
       "  <th>FundType_IE</th>  <td>   11.1677</td> <td>    2.060</td> <td>    5.421</td> <td> 0.000</td> <td>    6.994</td> <td>   15.341</td>\n",
       "</tr>\n",
       "<tr>\n",
       "  <th>Star3</th>        <td>    6.8611</td> <td>    3.081</td> <td>    2.227</td> <td> 0.032</td> <td>    0.618</td> <td>   13.105</td>\n",
       "</tr>\n",
       "<tr>\n",
       "  <th>Star4</th>        <td>    8.6350</td> <td>    2.907</td> <td>    2.971</td> <td> 0.005</td> <td>    2.745</td> <td>   14.525</td>\n",
       "</tr>\n",
       "<tr>\n",
       "  <th>Star5</th>        <td>    6.9853</td> <td>    3.192</td> <td>    2.188</td> <td> 0.035</td> <td>    0.517</td> <td>   13.453</td>\n",
       "</tr>\n",
       "</table>\n",
       "<table class=\"simpletable\">\n",
       "<tr>\n",
       "  <th>Omnibus:</th>       <td>32.473</td> <th>  Durbin-Watson:     </th> <td>   1.601</td>\n",
       "</tr>\n",
       "<tr>\n",
       "  <th>Prob(Omnibus):</th> <td> 0.000</td> <th>  Jarque-Bera (JB):  </th> <td> 110.202</td>\n",
       "</tr>\n",
       "<tr>\n",
       "  <th>Skew:</th>          <td> 1.707</td> <th>  Prob(JB):          </th> <td>1.17e-24</td>\n",
       "</tr>\n",
       "<tr>\n",
       "  <th>Kurtosis:</th>      <td> 9.864</td> <th>  Cond. No.          </th> <td>    257.</td>\n",
       "</tr>\n",
       "</table>"
      ],
      "text/plain": [
       "<class 'statsmodels.iolib.summary.Summary'>\n",
       "\"\"\"\n",
       "                            OLS Regression Results                            \n",
       "==============================================================================\n",
       "Dep. Variable:          AverageReturn   R-squared:                       0.727\n",
       "Model:                            OLS   Adj. R-squared:                  0.676\n",
       "Method:                 Least Squares   F-statistic:                     14.09\n",
       "Date:                Thu, 24 May 2018   Prob (F-statistic):           9.57e-09\n",
       "Time:                        20:05:20   Log-Likelihood:                -132.02\n",
       "No. Observations:                  45   AIC:                             280.0\n",
       "Df Residuals:                      37   BIC:                             294.5\n",
       "Df Model:                           7                                         \n",
       "Covariance Type:            nonrobust                                         \n",
       "================================================================================\n",
       "                   coef    std err          t      P>|t|      [0.025      0.975]\n",
       "--------------------------------------------------------------------------------\n",
       "Intercept        1.2704      4.520      0.281      0.780      -7.889      10.430\n",
       "NAV              0.0555      0.071      0.783      0.438      -0.088       0.199\n",
       "ExpenseRatio     5.4909      2.600      2.112      0.041       0.223      10.758\n",
       "FundType_FI     -7.1560      2.629     -2.722      0.010     -12.482      -1.830\n",
       "FundType_IE     11.1677      2.060      5.421      0.000       6.994      15.341\n",
       "Star3            6.8611      3.081      2.227      0.032       0.618      13.105\n",
       "Star4            8.6350      2.907      2.971      0.005       2.745      14.525\n",
       "Star5            6.9853      3.192      2.188      0.035       0.517      13.453\n",
       "==============================================================================\n",
       "Omnibus:                       32.473   Durbin-Watson:                   1.601\n",
       "Prob(Omnibus):                  0.000   Jarque-Bera (JB):              110.202\n",
       "Skew:                           1.707   Prob(JB):                     1.17e-24\n",
       "Kurtosis:                       9.864   Cond. No.                         257.\n",
       "==============================================================================\n",
       "\n",
       "Warnings:\n",
       "[1] Standard Errors assume that the covariance matrix of the errors is correctly specified.\n",
       "\"\"\""
      ]
     },
     "execution_count": 43,
     "metadata": {},
     "output_type": "execute_result"
    }
   ],
   "source": [
    "model.summary()"
   ]
  },
  {
   "cell_type": "code",
   "execution_count": 44,
   "metadata": {},
   "outputs": [],
   "source": [
    "data['predicted'] = model.predict(data)"
   ]
  },
  {
   "cell_type": "code",
   "execution_count": 45,
   "metadata": {},
   "outputs": [],
   "source": [
    "data['residual'] = data['AverageReturn'] - data['predicted']"
   ]
  },
  {
   "cell_type": "code",
   "execution_count": 46,
   "metadata": {},
   "outputs": [
    {
     "data": {
      "text/plain": [
       "0      5.838266\n",
       "1      2.691274\n",
       "2     -2.695336\n",
       "3     -4.071352\n",
       "4      1.820006\n",
       "5     -2.519006\n",
       "6      0.120354\n",
       "7     -1.490189\n",
       "8      0.274738\n",
       "9     -2.627012\n",
       "10     2.669341\n",
       "11    -0.732850\n",
       "12     5.440877\n",
       "13    -1.549551\n",
       "14     2.715654\n",
       "15     0.790938\n",
       "16     0.141413\n",
       "17    -5.239813\n",
       "18    -2.048560\n",
       "19    -1.163625\n",
       "20    -0.791413\n",
       "21    -0.357471\n",
       "22    -3.436776\n",
       "23    -2.855723\n",
       "24    -2.053312\n",
       "25    -7.892473\n",
       "26    -0.918492\n",
       "27     0.159851\n",
       "28    -1.256454\n",
       "29     5.485526\n",
       "30    -2.276707\n",
       "31     0.234201\n",
       "32     5.138225\n",
       "33     4.849318\n",
       "34    20.228109\n",
       "35     1.365632\n",
       "36   -10.270550\n",
       "37    -3.501249\n",
       "38    -0.741277\n",
       "39     0.557257\n",
       "40    -2.483068\n",
       "41     1.421855\n",
       "42    -0.354084\n",
       "43     5.807855\n",
       "44    -4.424348\n",
       "Name: residual, dtype: float64"
      ]
     },
     "execution_count": 46,
     "metadata": {},
     "output_type": "execute_result"
    }
   ],
   "source": [
    "data['residual']"
   ]
  },
  {
   "cell_type": "code",
   "execution_count": 47,
   "metadata": {},
   "outputs": [
    {
     "data": {
      "text/plain": [
       "<seaborn.axisgrid.JointGrid at 0xe398ef0>"
      ]
     },
     "execution_count": 47,
     "metadata": {},
     "output_type": "execute_result"
    },
    {
     "data": {
      "image/png": "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\n",
      "text/plain": [
       "<matplotlib.figure.Figure at 0xe398cf8>"
      ]
     },
     "metadata": {},
     "output_type": "display_data"
    }
   ],
   "source": [
    "sns.jointplot(data['AverageReturn'], data['residual'])"
   ]
  },
  {
   "cell_type": "code",
   "execution_count": 48,
   "metadata": {},
   "outputs": [
    {
     "data": {
      "text/plain": [
       "945.7689232151291"
      ]
     },
     "execution_count": 48,
     "metadata": {},
     "output_type": "execute_result"
    }
   ],
   "source": [
    "data['mape'] = data['residual'] / data['AverageReturn']\n",
    "data['mape'] = data['mape'] * 100.00\n",
    "data['mape'] = data['mape'].abs()\n",
    "mape = data['mape'].sum()\n",
    "mape"
   ]
  }
 ],
 "metadata": {
  "kernelspec": {
   "display_name": "Python 3",
   "language": "python",
   "name": "python3"
  },
  "language_info": {
   "codemirror_mode": {
    "name": "ipython",
    "version": 3
   },
   "file_extension": ".py",
   "mimetype": "text/x-python",
   "name": "python",
   "nbconvert_exporter": "python",
   "pygments_lexer": "ipython3",
   "version": "3.6.4"
  }
 },
 "nbformat": 4,
 "nbformat_minor": 2
}

       "</style>\n",
       "<table border=\"1\" class=\"dataframe\">\n",
       "  <thead>\n",
       "    <tr style=\"text-align: right;\">\n",
       "      <th></th>\n",
       "      <th>Fund Name</th>\n",
       "      <th>Fund Type</th>\n",
       "      <th>Net Asset Value ($)</th>\n",
       "      <th>5 Year Average Return (%)</th>\n",
       "      <th>Expense Ratio (%)</th>\n",
       "      <th>Morningstar Rank</th>\n",
       "    </tr>\n",
       "  </thead>\n",
       "  <tbody>\n",
       "    <tr>\n",
       "      <th>0</th>\n",
       "      <td>Amer Cent Inc &amp; Growth Inv</td>\n",
       "      <td>DE</td>\n",
       "      <td>28.88</td>\n",
       "      <td>12.39</td>\n",
       "      <td>0.67</td>\n",
       "      <td>2-Star</td>\n",
       "    </tr>\n",
       "    <tr>\n",
       "      <th>1</th>\n",
       "      <td>American Century Intl. Disc</td>\n",
       "      <td>IE</td>\n",
       "      <td>14.37</td>\n",
       "      <td>30.53</td>\n",
       "      <td>1.41</td>\n",
       "      <td>3-Star</td>\n",
       "    </tr>\n",
       "    <tr>\n",
       "      <th>2</th>\n",
       "      <td>American Century Tax-Free Bond</td>\n",
       "      <td>FI</td>\n",
       "      <td>10.73</td>\n",
       "      <td>3.34</td>\n",
       "      <td>0.49</td>\n",
       "      <td>4-Star</td>\n",
       "    </tr>\n",
       "    <tr>\n",
       "      <th>3</th>\n",
       "      <td>American Century Ultra</td>\n",
       "      <td>DE</td>\n",
       "      <td>24.94</td>\n",
       "      <td>10.88</td>\n",
       "      <td>0.99</td>\n",
       "      <td>3-Star</td>\n",
       "    </tr>\n",
       "    <tr>\n",
       "      <th>4</th>\n",
       "      <td>Ariel</td>\n",
       "      <td>DE</td>\n",
       "      <td>46.39</td>\n",
       "      <td>11.32</td>\n",
       "      <td>1.03</td>\n",
       "      <td>2-Star</td>\n",
       "    </tr>\n",
       "    <tr>\n",
       "      <th>5</th>\n",
       "      <td>Artisan Intl Val</td>\n",
       "      <td>IE</td>\n",
       "      <td>25.52</td>\n",
       "      <td>24.95</td>\n",
       "      <td>1.23</td>\n",
       "      <td>3-Star</td>\n",
       "    </tr>\n",
       "    <tr>\n",
       "      <th>6</th>\n",
       "      <td>Artisan Small Cap</td>\n",
       "      <td>DE</td>\n",
       "      <td>16.92</td>\n",
       "      <td>15.67</td>\n",
       "      <td>1.18</td>\n",
       "      <td>3-Star</td>\n",
       "    </tr>\n",
       "    <tr>\n",
       "      <th>7</th>\n",
       "      <td>Baron Asset</td>\n",
       "      <td>DE</td>\n",
       "      <td>50.67</td>\n",
       "      <td>16.77</td>\n",
       "      <td>1.31</td>\n",
       "      <td>5-Star</td>\n",
       "    </tr>\n",
       "    <tr>\n",
       "      <th>8</th>\n",
       "      <td>Brandywine</td>\n",
       "      <td>DE</td>\n",
       "      <td>36.58</td>\n",
       "      <td>18.14</td>\n",
       "      <td>1.08</td>\n",
       "      <td>4-Star</td>\n",
       "    </tr>\n",
       "    <tr>\n",
       "      <th>9</th>\n",
       "      <td>Brown Cap Small</td>\n",
       "      <td>DE</td>\n",
       "      <td>35.73</td>\n",
       "      <td>15.85</td>\n",
       "      <td>1.20</td>\n",
       "      <td>4-Star</td>\n",
       "    </tr>\n",
       "  </tbody>\n",
       "</table>\n",
       "</div>"
      ],
      "text/plain": [
       "                        Fund Name Fund Type  Net Asset Value ($)  \\\n",
       "0      Amer Cent Inc & Growth Inv        DE                28.88   \n",
       "1     American Century Intl. Disc        IE                14.37   \n",
       "2  American Century Tax-Free Bond        FI                10.73   \n",
       "3          American Century Ultra        DE                24.94   \n",
       "4                           Ariel        DE                46.39   \n",
       "5                Artisan Intl Val        IE                25.52   \n",
       "6               Artisan Small Cap        DE                16.92   \n",
       "7                     Baron Asset        DE                50.67   \n",
       "8                      Brandywine        DE                36.58   \n",
       "9                Brown Cap Small         DE                35.73   \n",
       "\n",
       "   5 Year Average Return (%)  Expense Ratio (%) Morningstar Rank  \n",
       "0                      12.39               0.67           2-Star  \n",
       "1                      30.53               1.41           3-Star  \n",
       "2                       3.34               0.49           4-Star  \n",
       "3                      10.88               0.99           3-Star  \n",
       "4                      11.32               1.03           2-Star  \n",
       "5                      24.95               1.23           3-Star  \n",
       "6                      15.67               1.18           3-Star  \n",
       "7                      16.77               1.31           5-Star  \n",
       "8                      18.14               1.08           4-Star  \n",
       "9                      15.85               1.20           4-Star  "
      ]
     },
     "execution_count": 6,
     "metadata": {},
     "output_type": "execute_result"
    }
   ],
   "source": [
    "data.head(n = 10) #value of n is 5, by default"
   ]
  },
  {
   "cell_type": "markdown",
   "metadata": {},
   "source": [
    "## Data Exploration"
   ]
  },
  {
   "cell_type": "code",
   "execution_count": 8,
   "metadata": {},
   "outputs": [
    {
     "data": {
      "text/plain": [
       "Fund Name                    0\n",
       "Fund Type                    0\n",
       "Net Asset Value ($)          0\n",
       "5 Year Average Return (%)    0\n",
       "Expense Ratio (%)            0\n",
       "Morningstar Rank             0\n",
       "dtype: int64"
      ]
     },
     "execution_count": 8,
     "metadata": {},
     "output_type": "execute_result"
    }
   ],
   "source": [
    "data.isnull().sum()"
   ]
  },
  {
   "cell_type": "markdown",
   "metadata": {},
   "source": [
    "### Usage of isnull().sum()"
   ]
  },
  {
   "cell_type": "code",
   "execution_count": 11,
   "metadata": {},
   "outputs": [
    {
     "data": {
      "text/plain": [
       "2"
      ]
     },
     "execution_count": 11,
     "metadata": {},
     "output_type": "execute_result"
    }
   ],
   "source": [
    "# It counts the number of NaN values (null values) in the given DataFrame\n",
    "s = pd.Series([1, 2, 3, np.nan, np.nan])\n",
    "s.isnull().sum()"
   ]
  },
  {
   "cell_type": "code",
   "execution_count": 13,
   "metadata": {},
   "outputs": [
    {
     "data": {
      "text/plain": [
       "a    1\n",
       "b    2\n",
       "dtype: int64"
      ]
     },
     "execution_count": 13,
     "metadata": {},
     "output_type": "execute_result"
    }
   ],
   "source": [
    "# It also works for multiple columns\n",
    "df = pd.DataFrame({'a':[1,2,np.nan], 'b':[np.nan,1,np.nan]})\n",
    "df.isnull().sum()"
   ]
  }
 ],
 "metadata": {
  "kernelspec": {
   "display_name": "Python 3",
   "language": "python",
   "name": "python3"
  },
  "language_info": {
   "codemirror_mode": {
    "name": "ipython",
    "version": 3
   },
   "file_extension": ".py",
   "mimetype": "text/x-python",
   "name": "python",
   "nbconvert_exporter": "python",
   "pygments_lexer": "ipython3",
   "version": "3.6.4"
  }
 },
 "nbformat": 4,
 "nbformat_minor": 2
}
